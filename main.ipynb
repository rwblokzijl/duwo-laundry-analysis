{
 "cells": [
  {
   "cell_type": "code",
   "execution_count": 1,
   "metadata": {},
   "outputs": [],
   "source": [
    "import pandas as pd\n",
    "import numpy as np\n",
    "import matplotlib.pyplot as plt\n",
    "from datetime import timedelta\n",
    "from datetime import time as datetime_time\n",
    "plt.style.use('seaborn-whitegrid')"
   ]
  },
  {
   "cell_type": "code",
   "execution_count": 2,
   "metadata": {},
   "outputs": [
    {
     "name": "stdout",
     "output_type": "stream",
     "text": [
      "                  datetime  wash  dry\n",
      "0      2018-12-16 21:40:05     0    2\n",
      "1      2018-12-16 21:45:05     0    2\n",
      "2      2018-12-16 21:50:05     0    2\n",
      "3      2018-12-16 21:55:06     1    2\n",
      "4      2018-12-16 22:00:05     1    2\n",
      "...                    ...   ...  ...\n",
      "251710 2022-02-06 14:55:11     1    3\n",
      "251711 2022-02-06 15:00:08     1    2\n",
      "251712 2022-02-06 15:05:07     1    2\n",
      "251713 2022-02-06 15:10:07     0    0\n",
      "251714 2022-02-06 15:15:08     0    0\n",
      "\n",
      "[251715 rows x 3 columns]\n"
     ]
    }
   ],
   "source": [
    "# = pd.DataFrame(columns=['date', 'washers', 'dryers'])\n",
    "#raw_data.read_csv(\"./both\", header=None)\n",
    "\n",
    "file = \"./laundry_stats\"\n",
    "\n",
    "headers = ['datetime', 'wash', 'dry']\n",
    "dtypes = {'datetime': 'str', 'wash': 'int', 'dry': 'int'}\n",
    "parse_dates = ['datetime']\n",
    "raw_data = pd.read_csv(file, sep=',', header=None, names=headers, dtype=dtypes, parse_dates=parse_dates, date_parser=pd.to_datetime)\n",
    "#print(raw_data.dtypes)\n",
    "print(raw_data)"
   ]
  },
  {
   "cell_type": "code",
   "execution_count": 3,
   "metadata": {},
   "outputs": [],
   "source": [
    "def shift_forward(data):\n",
    "    local_data=data.copy()\n",
    "    local_data['datetime'] = [time + timedelta(hours=4) for time in local_data['datetime']]\n",
    "    return local_data\n",
    "\n",
    "def shift_back(data):\n",
    "    local_data=data.copy()\n",
    "    local_data['datetime'] = [time + timedelta(hours=-4) for time in local_data['datetime']]\n",
    "    return local_data\n",
    "    \n",
    "shifted_data = shift_forward(shift_back(raw_data))\n",
    "#print(shifted_data)"
   ]
  },
  {
   "cell_type": "code",
   "execution_count": 4,
   "metadata": {},
   "outputs": [
    {
     "data": {
      "text/plain": [
       "[                datetime  wash  dry\n",
       " 0    2018-12-16 21:40:05     0    2\n",
       " 1    2018-12-16 21:45:05     0    2\n",
       " 2    2018-12-16 21:50:05     0    2\n",
       " 3    2018-12-16 21:55:06     1    2\n",
       " 4    2018-12-16 22:00:05     1    2\n",
       " ...                  ...   ...  ...\n",
       " 4331 2018-12-31 23:35:04     4    3\n",
       " 4332 2018-12-31 23:40:05     4    3\n",
       " 4333 2018-12-31 23:45:05     4    3\n",
       " 4334 2018-12-31 23:50:25     4    3\n",
       " 4335 2018-12-31 23:55:05     4    3\n",
       " \n",
       " [4336 rows x 3 columns],\n",
       "                   datetime  wash  dry\n",
       " 0      2019-01-01 00:00:05     4    3\n",
       " 1      2019-01-01 00:05:27     4    3\n",
       " 2      2019-01-01 00:10:05     4    3\n",
       " 3      2019-01-01 00:15:05     4    3\n",
       " 4      2019-01-01 00:20:26     4    3\n",
       " ...                    ...   ...  ...\n",
       " 102113 2019-12-31 23:35:04     4    3\n",
       " 102114 2019-12-31 23:40:06     4    3\n",
       " 102115 2019-12-31 23:45:04     4    3\n",
       " 102116 2019-12-31 23:50:04     4    3\n",
       " 102117 2019-12-31 23:55:05     4    3\n",
       " \n",
       " [102118 rows x 3 columns],\n",
       "                   datetime  wash  dry\n",
       " 0      2020-01-01 00:00:04     4    3\n",
       " 1      2020-01-01 00:05:05     4    3\n",
       " 2      2020-01-01 00:10:05     4    3\n",
       " 3      2020-01-01 00:15:04     4    3\n",
       " 4      2020-01-01 00:20:04     4    3\n",
       " ...                    ...   ...  ...\n",
       " 104350 2020-12-31 23:35:05     4    3\n",
       " 104351 2020-12-31 23:40:04     4    3\n",
       " 104352 2020-12-31 23:45:04     4    3\n",
       " 104353 2020-12-31 23:50:06     4    3\n",
       " 104354 2020-12-31 23:55:05     4    3\n",
       " \n",
       " [104355 rows x 3 columns],\n",
       "                  datetime  wash  dry\n",
       " 0     2021-01-01 00:00:05     4    3\n",
       " 1     2021-01-01 00:05:05     4    3\n",
       " 2     2021-01-01 00:10:05     4    3\n",
       " 3     2021-01-01 00:15:05     4    3\n",
       " 4     2021-01-01 00:20:05     4    3\n",
       " ...                   ...   ...  ...\n",
       " 38946 2021-12-23 14:25:07     0    2\n",
       " 38947 2021-12-23 14:30:07     0    2\n",
       " 38948 2021-12-23 14:35:06     0    2\n",
       " 38949 2021-12-23 14:40:06     0    2\n",
       " 38950 2021-12-23 14:45:07     0    2\n",
       " \n",
       " [38951 rows x 3 columns],\n",
       "                 datetime  wash  dry\n",
       " 0    2022-01-25 22:05:07     2    3\n",
       " 1    2022-01-25 22:10:06     1    3\n",
       " 2    2022-01-25 22:15:06     2    3\n",
       " 3    2022-01-25 22:20:06     2    2\n",
       " 4    2022-01-25 22:25:06     2    2\n",
       " ...                  ...   ...  ...\n",
       " 1947 2022-02-06 14:55:11     1    3\n",
       " 1948 2022-02-06 15:00:08     1    2\n",
       " 1949 2022-02-06 15:05:07     1    2\n",
       " 1950 2022-02-06 15:10:07     0    0\n",
       " 1951 2022-02-06 15:15:08     0    0\n",
       " \n",
       " [1952 rows x 3 columns]]"
      ]
     },
     "execution_count": 4,
     "metadata": {},
     "output_type": "execute_result"
    }
   ],
   "source": [
    "def get_by_months(data):\n",
    "    return[g.reset_index() for n, g in data.set_index('datetime').groupby(pd.Grouper(freq='M'))]\n",
    "\n",
    "def get_by_year(data):\n",
    "    return[g.reset_index() for n, g in data.set_index('datetime').groupby(pd.Grouper(freq='Y'))]\n",
    "\n",
    "months = get_by_months(raw_data)\n",
    "get_by_year(raw_data)\n",
    "#print(pd.concat(months[1:3]))"
   ]
  },
  {
   "cell_type": "code",
   "execution_count": 5,
   "metadata": {},
   "outputs": [
    {
     "name": "stdout",
     "output_type": "stream",
     "text": [
      "                datetime  wash  dry\n",
      "0    2019-01-01 00:00:05     4    3\n",
      "1    2019-01-01 00:05:27     4    3\n",
      "2    2019-01-01 00:10:05     4    3\n",
      "3    2019-01-01 00:15:05     4    3\n",
      "4    2019-01-01 00:20:26     4    3\n",
      "...                  ...   ...  ...\n",
      "8227 2019-01-31 23:35:05     0    3\n",
      "8228 2019-01-31 23:40:05     0    3\n",
      "8229 2019-01-31 23:45:05     2    3\n",
      "8230 2019-01-31 23:50:05     2    3\n",
      "8231 2019-01-31 23:55:05     2    3\n",
      "\n",
      "[6463 rows x 3 columns]\n"
     ]
    }
   ],
   "source": [
    "def get_weekdays(data):\n",
    "    return data[data.set_index('datetime').index.dayofweek < 5]\n",
    "\n",
    "def get_weekends(data):\n",
    "    return data[data.set_index('datetime').index.dayofweek >= 5]\n",
    "\n",
    "print(get_weekdays(months[1]))\n",
    "#print(get_weekends(months[1]))"
   ]
  },
  {
   "cell_type": "code",
   "execution_count": 6,
   "metadata": {},
   "outputs": [
    {
     "name": "stdout",
     "output_type": "stream",
     "text": [
      "     datetime      wash       dry\n",
      "0    00:00:00  3.551724  2.551724\n",
      "1    00:05:00  3.482759  2.586207\n",
      "2    00:10:00  3.310345  2.482759\n",
      "3    00:15:00  3.310345  2.482759\n",
      "4    00:20:00  3.250000  2.464286\n",
      "..        ...       ...       ...\n",
      "283  23:35:00  2.586207  2.103448\n",
      "284  23:40:00  2.620690  2.275862\n",
      "285  23:45:00  2.896552  2.310345\n",
      "286  23:50:00  3.103448  2.310345\n",
      "287  23:55:00  3.137931  2.448276\n",
      "\n",
      "[288 rows x 3 columns]\n"
     ]
    }
   ],
   "source": [
    "def average_range(data):\n",
    "    local_data=data.copy()\n",
    "    local_data['datetime'] = [time.floor(\"5min\").time() for time in local_data['datetime']]\n",
    "    return local_data.set_index('datetime').groupby('datetime').mean().reset_index()\n",
    "\n",
    "print(average_range(months[1]))"
   ]
  },
  {
   "cell_type": "code",
   "execution_count": 7,
   "metadata": {},
   "outputs": [],
   "source": [
    "def shift_time_forward(data):\n",
    "    local_data=data.copy()\n",
    "    local_data['datetime'] = [datetime_time((time.hour + 4)%24, time.minute) for time in local_data['datetime']]\n",
    "    return local_data\n",
    "\n",
    "def make_pretty(data_ref):\n",
    "    data = data_ref.copy()\n",
    "    data.names = [\"Time\", \"Washers Available\", \"Dryers Available\"]\n",
    "\n",
    "def plot_data(data_ref, title, filename):\n",
    "    data = data_ref.copy()\n",
    "    data['int_index'] = range(len(data))\n",
    "    #ticks=[time.time() for time in pd.date_range(start='1/1/2018 4:00', end='1/3/2018', freq='4H')]\n",
    "    #tickss=[tick.strftime(\"%H:%M\") for tick in ticks]\n",
    "    ax = data.plot(x=\"datetime\", y=[\"wash\", \"dry\"], figsize=(12, 6), title=title)\n",
    "    #ax.set_xticklabels(tickss)\n",
    "    ax.legend([\"Washers Available\", \"Dryers Available\"])\n",
    "    ax.set_xlabel(\"Time\")\n",
    "    fig = ax.get_figure()\n",
    "    fig.savefig(\"plots/\"+filename)\n",
    "    plt.close(fig)\n",
    "\n",
    "\n",
    "#plot_data(average_range(get_weekdays(get_by_months(raw_data)[1])), \"Weekdays Jan 2019\", \"./test.png\")"
   ]
  },
  {
   "cell_type": "code",
   "execution_count": 8,
   "metadata": {},
   "outputs": [],
   "source": [
    "def process_range(data, label, filename):\n",
    "    plot_data(average_range(get_weekdays(data)), \"Weekdays \" + label, f\"{filename}_weekdays.png\")\n",
    "    plot_data(average_range(get_weekends(data)), \"Weekend \" + label, f\"{filename}_weekends.png\")"
   ]
  },
  {
   "cell_type": "code",
   "execution_count": 9,
   "metadata": {},
   "outputs": [
    {
     "data": {
      "text/plain": [
       "Timestamp('2018-12-16 21:40:05')"
      ]
     },
     "execution_count": 9,
     "metadata": {},
     "output_type": "execute_result"
    }
   ],
   "source": [
    "raw_data['datetime'].min()"
   ]
  },
  {
   "cell_type": "code",
   "execution_count": 10,
   "metadata": {},
   "outputs": [],
   "source": [
    "months = get_by_months(raw_data)[1:]\n",
    "years = get_by_year(raw_data)[1:]"
   ]
  },
  {
   "cell_type": "code",
   "execution_count": 11,
   "metadata": {},
   "outputs": [],
   "source": [
    "#for month in months:\n",
    "#    title = month['datetime'][0].strftime(\"%B %Y\")\n",
    "#    m = month['datetime'][0].month\n",
    "#    y = month['datetime'][0].year\n",
    "#    pref = str(y) + \".\" + str(m).zfill(2)\n",
    "#    basename = f\"{pref}\"\n",
    "#    process_range(month, title, basename)"
   ]
  },
  {
   "cell_type": "code",
   "execution_count": 12,
   "metadata": {},
   "outputs": [],
   "source": [
    "for year in years:\n",
    "    title = year['datetime'][0].strftime(\"%B %Y\")\n",
    "    y = year['datetime'][0].year\n",
    "    try:\n",
    "        process_range(year, title, str(y))\n",
    "    except TypeError:\n",
    "        print(year['datetime'].max())"
   ]
  },
  {
   "cell_type": "code",
   "execution_count": 13,
   "metadata": {},
   "outputs": [],
   "source": [
    "process_range(shift_back(raw_data), \"all time Average\", \"0.0\")"
   ]
  }
 ],
 "metadata": {
  "kernelspec": {
   "display_name": "my-virtualenv-name",
   "language": "python",
   "name": "my-virtualenv-name"
  },
  "language_info": {
   "codemirror_mode": {
    "name": "ipython",
    "version": 3
   },
   "file_extension": ".py",
   "mimetype": "text/x-python",
   "name": "python",
   "nbconvert_exporter": "python",
   "pygments_lexer": "ipython3",
   "version": "3.8.12"
  }
 },
 "nbformat": 4,
 "nbformat_minor": 4
}
